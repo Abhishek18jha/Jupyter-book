{
 "metadata": {
  "language_info": {
   "codemirror_mode": {
    "name": "ipython",
    "version": 3
   },
   "file_extension": ".py",
   "mimetype": "text/x-python",
   "name": "python",
   "nbconvert_exporter": "python",
   "pygments_lexer": "ipython3",
   "version": "3.9.1-final"
  },
  "orig_nbformat": 2,
  "kernelspec": {
   "name": "python3",
   "display_name": "Python 3.9.1 64-bit",
   "metadata": {
    "interpreter": {
     "hash": "08333f266fbf220cc6304d09a6d05685b04da102ef0ca7fc6ef97e1506f3d2b6"
    }
   }
  }
 },
 "nbformat": 4,
 "nbformat_minor": 2,
 "cells": [
  {
   "cell_type": "code",
   "execution_count": 22,
   "metadata": {},
   "outputs": [
    {
     "output_type": "error",
     "ename": "PermissionError",
     "evalue": "[Errno 13] Permission denied: 'data.csv'",
     "traceback": [
      "\u001b[1;31m---------------------------------------------------------------------------\u001b[0m",
      "\u001b[1;31mPermissionError\u001b[0m                           Traceback (most recent call last)",
      "\u001b[1;32m<ipython-input-22-e8dab1ea4a84>\u001b[0m in \u001b[0;36m<module>\u001b[1;34m\u001b[0m\n\u001b[0;32m      2\u001b[0m \u001b[1;32mimport\u001b[0m \u001b[0mos\u001b[0m\u001b[1;33m\u001b[0m\u001b[1;33m\u001b[0m\u001b[0m\n\u001b[0;32m      3\u001b[0m \u001b[1;32mimport\u001b[0m \u001b[0mcsv\u001b[0m\u001b[1;33m\u001b[0m\u001b[1;33m\u001b[0m\u001b[0m\n\u001b[1;32m----> 4\u001b[1;33m \u001b[1;32mwith\u001b[0m \u001b[0mopen\u001b[0m\u001b[1;33m(\u001b[0m\u001b[1;34m'data.csv'\u001b[0m\u001b[1;33m,\u001b[0m\u001b[0mmode\u001b[0m\u001b[1;33m=\u001b[0m\u001b[1;34m'w'\u001b[0m\u001b[1;33m)\u001b[0m \u001b[1;32mas\u001b[0m \u001b[0mfile\u001b[0m\u001b[1;33m:\u001b[0m\u001b[1;33m\u001b[0m\u001b[1;33m\u001b[0m\u001b[0m\n\u001b[0m\u001b[0;32m      5\u001b[0m     \u001b[0mwriter\u001b[0m \u001b[1;33m=\u001b[0m \u001b[0mcsv\u001b[0m\u001b[1;33m.\u001b[0m\u001b[0mwriter\u001b[0m\u001b[1;33m(\u001b[0m\u001b[0mfile\u001b[0m\u001b[1;33m,\u001b[0m\u001b[0mdelimiter\u001b[0m\u001b[1;33m=\u001b[0m\u001b[1;34m','\u001b[0m\u001b[1;33m,\u001b[0m \u001b[0mquotechar\u001b[0m\u001b[1;33m=\u001b[0m\u001b[1;34m'\"'\u001b[0m\u001b[1;33m)\u001b[0m\u001b[1;33m\u001b[0m\u001b[1;33m\u001b[0m\u001b[0m\n\u001b[0;32m      6\u001b[0m     \u001b[0mwriter\u001b[0m\u001b[1;33m.\u001b[0m\u001b[0mwriterow\u001b[0m\u001b[1;33m(\u001b[0m\u001b[0ma\u001b[0m\u001b[1;33m[\u001b[0m\u001b[1;36m1\u001b[0m\u001b[1;33m]\u001b[0m\u001b[1;33m)\u001b[0m\u001b[1;33m\u001b[0m\u001b[1;33m\u001b[0m\u001b[0m\n",
      "\u001b[1;31mPermissionError\u001b[0m: [Errno 13] Permission denied: 'data.csv'"
     ]
    }
   ],
   "source": [
    "path = \"F:\\Python\"\n",
    "import os\n",
    "import csv\n",
    "with open('data.csv',mode='w') as file:\n",
    "    writer = csv.writer(file,delimiter=',', quotechar='\"')\n",
    "    writer.writerow(a)\n"
   ]
  },
  {
   "cell_type": "code",
   "execution_count": 11,
   "metadata": {},
   "outputs": [
    {
     "output_type": "stream",
     "name": "stdout",
     "text": [
      "Empty DataFrame\nColumns: [0073523372 Exploring Python [Budd 2009-02-17] {7D6844B6}.pdf, 0123785782 Maya Python for Games and Film; A Complete Reference for Maya Python and the Maya Python API [Mechtley & Trowbridge 2011-09-28] {E786C35B}.pdf, 0124186769 Python Forensics; A Workbench for Inventing and Sharing Digital Forensic Technology [Hosmer 2014-06-19] {024C99E2}.pdf, 0128027215 Python Passive Network Mapping; P2NMAP [Hosmer 2015-07-09] {774A4B37}.pdf, 0128040432 Neural Data Science; A Primer with MATLAB and Python [Nylen & Wallisch 2017-04-04] {64817D8D}.pdf, 0128099496 Integrating Python with Leading Computer Forensics Platforms [Hosmer 2016-10-05] {C9966825}.pdf, 0128122536 Computational Nuclear Engineering and Radiological Science using Python [McClarren 2017-11-02] {3999AE5B}.pdf, 0130260363 Core Python Programming [Chun 2000-12-15] {4E97F680}.pdf, 0130923613 Python; How to Program [Deitel, Deitel, Liperi & Wiedermann 2002-02-14] {6FDE9920}.pdf, 0132269937 Core Python Programming (2nd ed.) [Chun 2006-09-28] {CDDD91E5}.pdf, 0132354187 Rapid GUI Programming with Python and Qt; The Definitive Guide to PyQt Programming [Summerfield 2007-10-28] {BE4D5F25}.pdf, 0132356139 Python Web Development with Django [Forcier, Bissex & Chun 2008-11-03] {56F9D511}.pdf, 0132576376 Starting Out with Python (2nd ed.) [Gaddis 2011-03-18] {3899A1A2}.pdf, 0132678209 Core Python Applications Programming (3rd ed.) [Chun 2012-03-19] {7B63248F}.pdf, 0132747189 Introduction to Programming using Python [Liang 2012-01-12] {7ECA20CE}.pdf, 013280557X The Practice of Computing using Python (2nd ed.) [Punch & Enbody 2012-02-25] {E428EBDE}.pdf, 0134034287 Effective Python; 59 Specific Ways to Write Better Python [Slatkin 2015-03-08] {A3FD9410}.pdf, 0134123484 Learn More Python 3 the Hard Way; The Next Step for New Python Programmers [Shaw 2017-09-23] {A59040E2}.pdf, 0134291050 The Python 3 Standard Library by Example [Hellmann 2017-06-11] {568E4764}.pdf, 0134687477 Python Without Fear; A Beginner's Guide That Makes You Feel Smart [Overland 2017-10-01] {9C5AF4AE}.pdf, 0134692888 Learn Python 3 the Hard Way [Shaw 2017-07-07] {E5545B32}.pdf, 0135159946 Supercharged Python; Take Your Code to the Next Level [Overland & Bennett 2019-07-18] {AFE1AE9F}.pdf, 0135172381 Foundations of Deep Reinforcement Learning; Theory and Practice in Python [Graesser & Keng 2019-12-12] {555BF10E}.pdf, 0135224330 Python for Programmers; with Introductory AI Case Studies [Deitel & Deitel 2019-04-01] {A7AEAA55}.pdf, 0199639604 Data Science & Complex Networks; Real Case Studies with Python [Caldarelli & Chessa 2016-11-15] {70DD59E9}.pdf, 0199683093 Soil Physics with Python [Bittelli, Campbell & Tomei 2015-07-14] {13D7E035}.pdf, 0241286867 Computer Coding Python Projects for Kids; A Step-by-Step Visual Guide [Vorderman] {94524872}.pdf, 0262519631 Introduction to Computation and Programming using Python (Spring 2013 ed.) [Guttag 2013-01-18] {C209AFA1}.pdf, 0262525003 Introduction to Computation and Programming using Python (rev. ed.) [Guttag 2013-08-09] {230FB235}.pdf, 0262529629 Introduction to Computation and Programming using Python; with Application to Understanding Data (2nd ed.) [Guttag 2016-08-12] {C9F9E2B6}.pdf, 0273786431 Computing with Python; An Introduction to Python for Science and Engineering [Führer, Solem & Verdier 2013-12-06] {3AB0094C}.pdf, 0321537114 Starting Out with Python [Gaddis 2008-03-07] {B2636439}.pdf, 0321680561 Programming in Python 3; A Complete Introduction to the Python Language (2nd ed.) [Summerfield 2009-11-22] {8397CA75}.pdf, 0321767349 The Python Standard Library by Example [Hellmann 2011-06-11] {550045AE}.pdf, 0321884914 Learn Python the Hard Way (3rd ed.) [Shaw 2013-10-11] {E1A1CAA4}.pdf, 0321905636 Python in Practice; Create Better Programs using Concurrency, Libraries, and Patterns [Summerfield 2013-08-29] {7D16E6FB}.pdf, 0415743052 Rigging for Games; A Primer for Technical Artists using Maya and Python [Assaf 2015-12-03] {E40F3AA2}.pdf, 0470138092 Professional Python Frameworks; Web 2.0 Programming with Django and TurboGears [Moore, Budd & Wright 2007-10-15] {3AEADE21}.pdf, 0470259329 Python; Create, Modify, Reuse [Knowlton 2008-07-08] {34C180C7}.pdf, 0470414634 Beginning Python; Using Python 2.6 and Python 3.1 [Payne 2010-02-02] {6094092C}.pdf, 0470515058 Mobile Python; Rapid Prototyping of Applications on the Mobile Platform [Scheible & Tuulos 2007-11-28] {2FA8B7EA}.pdf, 0470548592 Professional IronPython; Design and Develop IronPython Techniques [Mueller 2010-04-05] {443ADBA3}.pdf, 0470555157 Introduction to Computer Science using Python; A Computational Problem-Solving Focus [Dierbach 2012-12-25] {C4A301F4}.pdf, 0470592354 web2py Enterprise Web Framework (Python) (2nd ed.) [di Pierro 2009-09-28] {79D0BBB3}.pdf, 0470618299 Data Structures and Algorithms using Python [Necaise 2010-12-21] {D73628CB}.pdf, 0470618469 Introduction to Computing using Python; An Application Development Focus [Perkovic 2011-12-20] {C856E3A6}.pdf, 0470987847 Financial Modelling in Python [Fletcher & Gardner 2009-08-03] {5A4471EE}.pdf, 0471219754 Making Use of Python [Gupta 2002-06-15] {1A47D26F}.pdf, 0471778648 Python for Dummies [Maruch & Maruch 2006-09-14] {3F0D0893}.pdf, 0521145759 Numerical Methods in Engineering with Python 3 [Kiusalaas 2011-02-21] {2132581B}.pdf, 0521191327 Numerical Methods in Engineering with Python (2nd ed.) [Kiusalaas 2010-01-29] {6D29B406}.pdf, 0521852870 Numerical Methods in Engineering with Python [Kiusalaas 2005-07-25] {9C3D3C2D}.pdf, 0521895839, 0521720095 Python Programming for Biology; Bioinformatics and Beyond [Stevens & Boucher 2015-04-06] {980EF5C5}.pdf, 0521898110, 0521725968 Python for Software Design; How to Think Like a Computer Scientist [Downey 2009-03-16] {D4C5D11A}.pdf, 0596000855 Programming Python; Solutions for Python Programmers (2nd ed.) [Lutz 2001-03-11] {E4B125A6}.pdf, 0596000960 Python Standard Library; An Annotated Reference for Python 2.0 [Lundh 2001-05-20] {741BEA52}.pdf, 0596001282 Python & XML; XML Processing with Python [Jones & Drake 2001-12-15] {8474BCAD}.pdf, 0596001673 Python Cookbook; Recipes from the Python Community [Martelli & Ascher 2002-07-15] {4A52FEA9}.pdf, 0596001886 Python in a Nutshell; A Desktop Quick Reference [Martelli 2003-03-01] {09477EF6}.pdf, 0596002815 Learning Python; Object-Oriented Programming (2nd ed.) [Lutz & Ascher 2004-01-02] {12E6A0AB}.pdf, 0596007973 Python Cookbook; Recipes from the Python Community (2nd ed.) [Martelli, Ravenscroft & Ascher 2005-03-28] {297103EF}.pdf, 0596009259 Programming Python; Powerful Object-Oriented Programming (3rd ed.) [Lutz 2006-09-02] {26777FDD}.pdf, 0596100329 Twisted Network Programming Essentials; Event-Driven Network Programming with Python [Fettig 2005-10-30] {DCC06E6A}.pdf, 0596100469 Python in a Nutshell; A Desktop Quick Reference (2nd ed.) [Martelli 2006-07-24] {0E72439D}.pdf, 059615450X Bioinformatics Programming using Python; Practical Programming for Biological Data [Model 2009-12-25] {80C8F66A}.pdf, 0596158084 Python Pocket Reference; Python in Your Pocket (4th ed.) [Lutz 2009-10-18] {7F990823}.pdf, 0596158106 Programming Python; Powerful Object-Oriented Programming (4th ed.) [Lutz 2011-01-10] {E1797D00}.pdf, 0596513984 Learning Python; Powerful Object-Oriented Programming (3rd ed.) [Lutz 2007-11-01] {68968420}.pdf, 0596514239 Getting Started with Pyparsing (Python) [McGuire 2008] {CB40F2BE}.pdf, 0596515820 Python for UNIX and Linux System Administration; Efficient Problem-Solving with Python [Gift & Jones 2008-09-01] {1EB3A4CD}.pdf, 0596516142 Essential SQLAlchemy; Mapping Python to Databases [Copeland 2008-06-15] {5E8DDAF9}.pdf, 0596516495 Natural Language Processing with Python; Analyzing Text with the Natural Language Toolkit [Bird, Klein & Loper 2009-07-10] {9C0AA02A}.pdf, 0596802374 Head First Programming; A Learner's Guide to Programming, using the Python Language [Barry & Griffiths 2009-12-04] {DE3C5411}.pdf, 0596809565 Real World Instrumentation with Python; Automated Data Acquisition and Control Systems [Hughes 2010-12-02] {07017BA6}.pdf, 0672319942 Python Developer's Handbook [Lessa 2000-12-22] {58AAE401}.pdf, 0672328623 Python Essential Reference (3rd ed.) [Beazley 2006-03-02] {B50DE08D}.pdf, 0672329107 Python Phrasebook; Essential Code and Commands [Dayley 2006-11-16] {97F122C6}.pdf, 0672329786 Python Essential Reference (4th ed.) [Beazley 2009-07-19] {3197D186}.pdf, 0691151687 Statistics, Data Mining, and Machine Learning in Astronomy (Python) [Ivezić, Connolly, VanderPlas & Gray 2014-01-12] {03F3D73E}.pdf, 0691169586, 0691170509 A Student's Guide to Python for Physical Modeling [Kinder & Nelson 2015-09-22] {DF480836}.pdf, 0692878971 Powerful Python; The Most Impactful Patterns, Features, and Development Strategies Modern Python Provides (2nd ed.) [Maxwell 2017-05-07] {686B4624}.pdf, 0735710910 Python Essential Reference (2nd ed.) [Beazley 2001-06-07] {77129C73}.pdf, 0764548077 Python 2.1 Bible [Brueck & Tanner 2001-06-29] {90509C76}.pdf, 0764596543 Beginning Python [Norton, Samuel, Aitel, Foster-Johnson, Richardson, Diamond, Parker & Roberts 2005-08-05] {4B6083CF}.pdf, 0815394373 Introduction to Python Programming [Gowrishankar & Veena 2018-11-07] {5C8D38EC}.pdf, 0971677506 How to Think Like a Computer Scientist; Learning with Python [Downey, Elkner & Meyers 2002-01-04] {C90932B8}.pdf, 0981467342 Two Scoops of Django; Best Practices for Django 1.8 (Python) [Greenfeld & Greenfeld 2015-05-15] {847DC795}.pdf, 0982106009 Invent Your Own Computer Games with Python [Sweigart 2009-03-20] {0E76CCD8}.pdf, 0982106017 Invent Your Own Computer Games with Python; A Beginner's Guide to Computer Programming (2nd ed.) [Sweigart 2010-01-01] {5D2173EE}.pdf, 0991160401 Annotated Algorithms in Python; with Applications in Physics, Biology, and Finance (2nd ed.) [di Pierro 2013-11-26] {CACA93EA}.pdf, 0996062815 Python 101 [Driscoll 2016-10-20] {63B12905}.pdf, 109198378X Trading Evolved; Anyone Can Build Killer Trading Strategies in Python [Clenow] {3D78D1DF}.pdf, 1107033853 Numerical Methods in Engineering with Python 3 (3rd ed.) [Kiusalaas 2013-01-01] {16CD3127}.pdf, 1107061393, 1107686423 Python for Scientists [Stewart 2014-08-29] {BED18D92}.pdf, 1107075416, 110742822X Learning Scientific Programming with Python [Hill 2016-03-29] {DD1B2F31}.pdf, 1107666872 Coding Club Level 3; Python; Building Big Apps [Roffey 2013-08-19] {EEE270D8}.pdf, 1111822700 Fundamentals of Python; First Programs [Lambert 2011-03-22] {5BA42FA9}.pdf, 1118290275 Data Structures & Algorithms in Python [Goodrich, Tamassia & Goldwasser 2013-03-18] {1A19970D}.pdf, 1118626133 Python for Everyone [Horstmann & Necaise 2013-03-11] {79B1CE00}.pdf, 1118844181 Python for Data Science for Dummies [Mueller & Massaron 2015-07-07] {3D81EA4F}.pdf, ...]\nIndex: []\n\n[0 rows x 648 columns]\n"
     ]
    }
   ],
   "source": [
    "import pandas\n",
    "result = pandas.read_csv('data.csv')\n",
    "print(result)"
   ]
  },
  {
   "cell_type": "code",
   "execution_count": 45,
   "metadata": {},
   "outputs": [
    {
     "output_type": "execute_result",
     "data": {
      "text/plain": [
       "'c:\\\\Users\\\\Abhishek\\\\Jupyter-book'"
      ]
     },
     "metadata": {},
     "execution_count": 45
    }
   ],
   "source": [
    "import os\n",
    "os.getcwd()\n"
   ]
  },
  {
   "cell_type": "code",
   "execution_count": 57,
   "metadata": {},
   "outputs": [
    {
     "output_type": "stream",
     "name": "stdout",
     "text": [
      "[['Date', 'Open', 'High', 'Low', 'Close', 'Volume', 'Adj Close'], ['2009-12-31', '213.13', '213.35', '210.56', '210.73', '88102700', '28.40'], ['2009-12-30', '208.83', '212.00', '208.31', '211.64', '103021100', '28.52'], ['2009-12-29', '212.63', '212.72', '208.73', '209.10', '111301400', '28.18'], ['2009-12-28', '211.72', '213.95', '209.61', '211.61', '161141400', '28.51']]\n"
     ]
    }
   ],
   "source": [
    "import csv\n",
    "with open('data.csv','r') as fin:\n",
    "    #print(list(csv.reader(fin)))\n",
    "    print(list(csv.reader(fin)))"
   ]
  }
 ]
}
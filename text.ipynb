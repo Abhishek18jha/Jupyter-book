{
 "metadata": {
  "language_info": {
   "codemirror_mode": {
    "name": "ipython",
    "version": 3
   },
   "file_extension": ".py",
   "mimetype": "text/x-python",
   "name": "python",
   "nbconvert_exporter": "python",
   "pygments_lexer": "ipython3",
   "version": "3.9.1-final"
  },
  "orig_nbformat": 2,
  "kernelspec": {
   "name": "python3",
   "display_name": "Python 3.9.1 64-bit",
   "metadata": {
    "interpreter": {
     "hash": "08333f266fbf220cc6304d09a6d05685b04da102ef0ca7fc6ef97e1506f3d2b6"
    }
   }
  }
 },
 "nbformat": 4,
 "nbformat_minor": 2,
 "cells": [
  {
   "cell_type": "code",
   "execution_count": 50,
   "metadata": {},
   "outputs": [],
   "source": [
    "path = \"F:\\Python\"\n",
    "import os\n",
    "import csv\n",
    "a = os.listdir(path)\n",
    "with open('data.csv','w',newline='') as csvfile:\n",
    "    spamwriter = csv.writer(csvfile, delimiter=' ')\n",
    "    spamwriter.writerow(a)\n"
   ]
  },
  {
   "cell_type": "code",
   "execution_count": 45,
   "metadata": {},
   "outputs": [
    {
     "output_type": "execute_result",
     "data": {
      "text/plain": [
       "'c:\\\\Users\\\\Abhishek\\\\Jupyter-book'"
      ]
     },
     "metadata": {},
     "execution_count": 45
    }
   ],
   "source": [
    "import os\n",
    "os.getcwd()\n"
   ]
  }
 ]
}